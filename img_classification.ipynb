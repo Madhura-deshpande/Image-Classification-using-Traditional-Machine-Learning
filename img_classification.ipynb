{
 "cells": [
  {
   "cell_type": "markdown",
   "metadata": {},
   "source": [
    "# Title : Image Processing Using Traditional Machine Learning"
   ]
  },
  {
   "cell_type": "markdown",
   "metadata": {},
   "source": [
    "### ---------------------------------------------------------------------------------------------------------------------------------"
   ]
  },
  {
   "cell_type": "markdown",
   "metadata": {},
   "source": [
    "##### Loading libraries"
   ]
  },
  {
   "cell_type": "code",
   "execution_count": 1,
   "metadata": {},
   "outputs": [],
   "source": [
    "import numpy as np\n",
    "import pandas as pd\n",
    "import matplotlib.pyplot as plt\n",
    "import seaborn as sns\n",
    "import os\n",
    "import glob       \n",
    "import cv2\n",
    "from sklearn import preprocessing\n",
    "from skimage.filters import sobel\n",
    "from sklearn.linear_model import LogisticRegression\n",
    "from sklearn.neighbors import KNeighborsClassifier\n",
    "from sklearn.ensemble import RandomForestClassifier\n",
    "from sklearn import svm\n",
    "from sklearn.naive_bayes import GaussianNB\n",
    "from sklearn import metrics"
   ]
  },
  {
   "cell_type": "markdown",
   "metadata": {},
   "source": [
    "##### Image Pre-processing - \n",
    "##### Reading images, resizng images to fixed size (32*32) and Gray-scaling"
   ]
  },
  {
   "cell_type": "code",
   "execution_count": 2,
   "metadata": {},
   "outputs": [
    {
     "name": "stdout",
     "output_type": "stream",
     "text": [
      "downdog\n",
      "goddess\n",
      "plank\n",
      "tree\n",
      "warrior2\n"
     ]
    }
   ],
   "source": [
    "size=32\n",
    "\n",
    "train_images=[]\n",
    "train_labels=[]\n",
    "for directory_path in glob.glob(\"C:/Users/nihal/Desktop/Python/Yoga Pose Image Classification/TRAIN/*\"):\n",
    "    #splitting subfolders names within train folder and taking it as label\n",
    "    label=directory_path.split(\"\\\\\")[-1]\n",
    "    print(label)\n",
    "    for img_path in glob.glob(os.path.join(directory_path,\"*.jpg\")):\n",
    "        \n",
    "        img=cv2.imread(img_path,cv2.IMREAD_GRAYSCALE) #open image in black and white\n",
    "        img=cv2.resize(img,(size,size)) #resize images\n",
    "        \n",
    "        train_images.append(img)\n",
    "        train_labels.append(label)\n",
    "        \n",
    "#converting lists into numpy arrays      \n",
    "train_images=np.array(train_images)\n",
    "train_labels=np.array(train_labels)"
   ]
  },
  {
   "cell_type": "code",
   "execution_count": 19,
   "metadata": {},
   "outputs": [
    {
     "name": "stdout",
     "output_type": "stream",
     "text": [
      "[[241 242 244 ... 250 249 249]\n",
      " [241 241 242 ... 250 249 248]\n",
      " [240 241 242 ... 250 249 247]\n",
      " ...\n",
      " [232 232 234 ... 245 246 246]\n",
      " [234 234 235 ... 248 249 249]\n",
      " [234 235 235 ... 250 250 251]]\n"
     ]
    }
   ],
   "source": [
    "print(train_images[0])"
   ]
  },
  {
   "cell_type": "markdown",
   "metadata": {},
   "source": [
    "The output above prints the labels of the yoga poses i.e., 5 classes for classification."
   ]
  },
  {
   "cell_type": "code",
   "execution_count": 3,
   "metadata": {},
   "outputs": [],
   "source": [
    "test_images=[]\n",
    "test_labels=[]\n",
    "for directory_path in glob.glob(\"C:/Users/nihal/Desktop/Python/Yoga Pose Image Classification/TEST/*\"):\n",
    "    label=directory_path.split(\"\\\\\")[-1]\n",
    "    for img_path in glob.glob(os.path.join(directory_path,\"*.jpg\")):\n",
    "        \n",
    "        img=cv2.imread(img_path,cv2.IMREAD_GRAYSCALE)\n",
    "        img=cv2.resize(img,(size,size))\n",
    "        \n",
    "        test_images.append(img)\n",
    "        test_labels.append(label)\n",
    "        \n",
    "test_images=np.array(test_images)\n",
    "test_labels=np.array(test_labels)"
   ]
  },
  {
   "cell_type": "markdown",
   "metadata": {},
   "source": [
    "##### Image Pre-processing - Lable encoding and Normalization"
   ]
  },
  {
   "cell_type": "code",
   "execution_count": 4,
   "metadata": {},
   "outputs": [
    {
     "name": "stdout",
     "output_type": "stream",
     "text": [
      "[0 1 2 3 4]\n"
     ]
    }
   ],
   "source": [
    "# Encode labels to integer\n",
    "\n",
    "le=preprocessing.LabelEncoder()\n",
    "le.fit(test_labels)\n",
    "test_labels_encoded=le.transform(test_labels)\n",
    "le.fit(train_labels)\n",
    "train_labels_encoded=le.transform(train_labels)\n",
    "print(np.unique(train_labels_encoded))"
   ]
  },
  {
   "cell_type": "markdown",
   "metadata": {},
   "source": [
    "The yoga poses are encoded as follows :\n",
    "class0 - downdog,\n",
    "class1 - goddess,\n",
    "class2 - plank,\n",
    "class3 - tree,\n",
    "class4 - warrior2."
   ]
  },
  {
   "cell_type": "code",
   "execution_count": 5,
   "metadata": {},
   "outputs": [],
   "source": [
    "# Assign dependent and independent variables\n",
    "x_train,x_test,y_train,y_test=train_images,test_images,train_labels_encoded,test_labels_encoded\n",
    "\n",
    "# Normalize pixel values to between 0 and 1\n",
    "x_train,x_test=x_train/255.0,x_test/255.0"
   ]
  },
  {
   "cell_type": "code",
   "execution_count": 6,
   "metadata": {},
   "outputs": [
    {
     "name": "stdout",
     "output_type": "stream",
     "text": [
      "(1001, 32, 32)\n",
      "(428, 32, 32)\n"
     ]
    }
   ],
   "source": [
    "print(x_train.shape)\n",
    "print(x_test.shape)"
   ]
  },
  {
   "cell_type": "markdown",
   "metadata": {},
   "source": [
    "##### Feature extraction using Gabor filters and  edge detection using Sobel Kernels"
   ]
  },
  {
   "cell_type": "code",
   "execution_count": 7,
   "metadata": {},
   "outputs": [],
   "source": [
    "def feature_extractor(dataset):\n",
    "    image_dataset=pd.DataFrame()\n",
    "    for image in range(dataset.shape[0]):\n",
    "        df=pd.DataFrame()\n",
    "        img=dataset[image,:,:]\n",
    "        pixel_values=img.reshape(-1)\n",
    "        df['pixel_value']=pixel_values\n",
    "        num=1\n",
    "        kernels=[]\n",
    "        \n",
    "        for theta in range(2):\n",
    "            theta = theta / 4. * np.pi\n",
    "            for sigma in (1, 3):  #Sigma with 1 and 3\n",
    "                lamda = np.pi/4\n",
    "                gamma = 0.5\n",
    "                gabor_label = 'Gabor' + str(num)  \n",
    "                #Label Gabor columns as Gabor1, Gabor2, etc.\n",
    "                ksize=9\n",
    "                kernel = cv2.getGaborKernel((ksize, ksize), sigma, theta, lamda,\n",
    "                                            gamma, 0, ktype=cv2.CV_32F)    \n",
    "                kernels.append(kernel)\n",
    "                \n",
    "                #Now filter the image and add values to a new column \n",
    "                fimg = cv2.filter2D(img, cv2.CV_8UC3, kernel)   #cv2.CV_8UC3 - 8 bit unsigned integer\n",
    "                filtered_img = fimg.reshape(-1)\n",
    "                \n",
    "                #Labels columns as Gabor1, Gabor2, etc.\n",
    "                df[gabor_label] = filtered_img  \n",
    "                #print(gabor_label, ': theta=', theta, ': sigma=', \n",
    "                #      sigma, ': lamda=', lamda, ': gamma=', gamma)\n",
    "                \n",
    "                #Increment for gabor column label\n",
    "                num += 1         \n",
    "                \n",
    "        #Sobel kernel    \n",
    "        edge_sobel = sobel(img)\n",
    "        edge_sobel1 = edge_sobel.reshape(-1)\n",
    "        df['Sobel'] = edge_sobel1\n",
    "        \n",
    "        #Append features from current image to the dataset\n",
    "        image_dataset = image_dataset.append(df)\n",
    "    return image_dataset"
   ]
  },
  {
   "cell_type": "code",
   "execution_count": 8,
   "metadata": {},
   "outputs": [],
   "source": [
    "#Extract features from training images\n",
    "image_features = feature_extractor(x_train)\n",
    "\n",
    "#Reshape to a vector for training models\n",
    "image_features = np.expand_dims(image_features, axis=0)\n",
    "X_train = np.reshape(image_features, (x_train.shape[0], -1)) \n",
    "\n",
    "#Extract features from testing images\n",
    "test_features = feature_extractor(x_test)\n",
    "test_features = np.expand_dims(test_features, axis=0)\n",
    "X_test = np.reshape(test_features, (x_test.shape[0], -1))"
   ]
  },
  {
   "cell_type": "code",
   "execution_count": 9,
   "metadata": {},
   "outputs": [
    {
     "name": "stdout",
     "output_type": "stream",
     "text": [
      "(1001, 6144)\n",
      "(428, 6144)\n"
     ]
    }
   ],
   "source": [
    "print(X_train.shape)\n",
    "print(X_test.shape)"
   ]
  },
  {
   "cell_type": "markdown",
   "metadata": {},
   "source": [
    "###### ----------------------------------------------------------------------------------------------------------------------------------------------------------------------------------------------"
   ]
  },
  {
   "cell_type": "markdown",
   "metadata": {},
   "source": [
    "##### Model Building \n",
    "##### 1. K-Nearest Neighbor"
   ]
  },
  {
   "cell_type": "code",
   "execution_count": 10,
   "metadata": {},
   "outputs": [
    {
     "name": "stdout",
     "output_type": "stream",
     "text": [
      "KNeighborsClassifier(metric='manhattan', n_neighbors=4)\n",
      "Testing accuracy of knn model is  0.5584112149532711\n"
     ]
    }
   ],
   "source": [
    "knn=KNeighborsClassifier(metric='manhattan',n_neighbors=4)\n",
    "print(knn.fit(X_train,y_train))\n",
    "#print(knn.score(X_train,y_train))\n",
    "y_pred=knn.predict(X_test)\n",
    "acc_knn=metrics.accuracy_score(y_test,y_pred)\n",
    "print(\"Testing accuracy of knn model is \",acc_knn)"
   ]
  },
  {
   "cell_type": "code",
   "execution_count": 11,
   "metadata": {
    "scrolled": true
   },
   "outputs": [
    {
     "name": "stdout",
     "output_type": "stream",
     "text": [
      "Performance Measure of knn model:\n",
      "\n",
      "               precision    recall  f1-score   support\n",
      "\n",
      "           0       0.59      0.67      0.63        91\n",
      "           1       0.36      0.46      0.41        70\n",
      "           2       0.69      0.58      0.63       103\n",
      "           3       0.59      0.66      0.62        65\n",
      "           4       0.56      0.43      0.49        99\n",
      "\n",
      "    accuracy                           0.56       428\n",
      "   macro avg       0.56      0.56      0.56       428\n",
      "weighted avg       0.57      0.56      0.56       428\n",
      "\n"
     ]
    },
    {
     "data": {
      "text/plain": [
       "Text(0.5, 1.0, 'Confusion matrix')"
      ]
     },
     "execution_count": 11,
     "metadata": {},
     "output_type": "execute_result"
    },
    {
     "data": {
      "image/png": "[encoded data removed]",
      "text/plain": [
       "<Figure size 432x288 with 2 Axes>"
      ]
     },
     "metadata": {
      "needs_background": "light"
     },
     "output_type": "display_data"
    }
   ],
   "source": [
    "print(\"Performance Measure of knn model:\\n\\n\",metrics.classification_report(y_test, y_pred))\n",
    "confusion_knn=metrics.confusion_matrix(y_true=y_test,y_pred=y_pred)\n",
    "s=sns.heatmap(confusion_knn,annot=True)\n",
    "s.set_title(\"Confusion matrix\")"
   ]
  },
  {
   "cell_type": "markdown",
   "metadata": {},
   "source": [
    "KNN algorithm performs moderately giving overall accuracy 55.8%. But it misclassifies the poses in class4 (warrior pose) as class1 (goddess pose)."
   ]
  },
  {
   "cell_type": "markdown",
   "metadata": {},
   "source": [
    "##### 2. Naive Bayes Classifier"
   ]
  },
  {
   "cell_type": "code",
   "execution_count": 12,
   "metadata": {},
   "outputs": [
    {
     "name": "stdout",
     "output_type": "stream",
     "text": [
      "GaussianNB(var_smoothing=5e-05)\n",
      "Testing accuracy of Naive Bayes model is  0.3294392523364486\n"
     ]
    }
   ],
   "source": [
    "gnb = GaussianNB(var_smoothing=0.00005)\n",
    "print(gnb.fit(X_train, y_train))\n",
    "y_pred=gnb.predict(X_test)\n",
    "acc_nb=metrics.accuracy_score(y_test,y_pred)\n",
    "print(\"Testing accuracy of Naive Bayes model is \",acc_nb)"
   ]
  },
  {
   "cell_type": "code",
   "execution_count": 13,
   "metadata": {},
   "outputs": [
    {
     "name": "stdout",
     "output_type": "stream",
     "text": [
      "Performance Measure of Naive Bayes model:\n",
      "\n",
      "               precision    recall  f1-score   support\n",
      "\n",
      "           0       0.38      0.23      0.29        91\n",
      "           1       0.45      0.27      0.34        70\n",
      "           2       0.61      0.29      0.39       103\n",
      "           3       0.22      0.88      0.35        65\n",
      "           4       0.58      0.14      0.23        99\n",
      "\n",
      "    accuracy                           0.33       428\n",
      "   macro avg       0.45      0.36      0.32       428\n",
      "weighted avg       0.47      0.33      0.32       428\n",
      "\n"
     ]
    },
    {
     "data": {
      "text/plain": [
       "Text(0.5, 1.0, 'Confusion matrix')"
      ]
     },
     "execution_count": 13,
     "metadata": {},
     "output_type": "execute_result"
    },
    {
     "data": {
      "image/png": "[encoded data removed]",
      "text/plain": [
       "<Figure size 432x288 with 2 Axes>"
      ]
     },
     "metadata": {
      "needs_background": "light"
     },
     "output_type": "display_data"
    }
   ],
   "source": [
    "print(\"Performance Measure of Naive Bayes model:\\n\\n\",metrics.classification_report(y_test, y_pred))\n",
    "confusion_NB=metrics.confusion_matrix(y_true=y_test,y_pred=y_pred)\n",
    "\n",
    "s=sns.heatmap(confusion_NB,annot=True)\n",
    "s.set_title(\"Confusion matrix\")"
   ]
  },
  {
   "cell_type": "markdown",
   "metadata": {},
   "source": [
    "Naive Bayes Classifier perform poorly with accuracy 33%. Majority of the poses are misclassified into class3 (plank)."
   ]
  },
  {
   "cell_type": "markdown",
   "metadata": {},
   "source": [
    "##### 3. Random Forest"
   ]
  },
  {
   "cell_type": "code",
   "execution_count": 14,
   "metadata": {},
   "outputs": [
    {
     "name": "stdout",
     "output_type": "stream",
     "text": [
      "RandomForestClassifier(max_depth=7, min_samples_leaf=20, random_state=11)\n",
      "Testing accuracy of Random Forest model is  0.7102803738317757\n"
     ]
    }
   ],
   "source": [
    "RF_model = RandomForestClassifier(n_estimators = 100, random_state = 11,\n",
    "                                  max_depth = 7,\n",
    "                                  min_samples_leaf= 20\n",
    "                                  )\n",
    "print(RF_model.fit(X_train, y_train))\n",
    "y_pred=RF_model.predict(X_test)\n",
    "acc_rf=metrics.accuracy_score(y_test,y_pred)\n",
    "print(\"Testing accuracy of Random Forest model is \",acc_rf)"
   ]
  },
  {
   "cell_type": "code",
   "execution_count": 15,
   "metadata": {},
   "outputs": [
    {
     "name": "stdout",
     "output_type": "stream",
     "text": [
      "Performance Measure of Random Forest model:\n",
      "\n",
      "               precision    recall  f1-score   support\n",
      "\n",
      "           0       0.83      0.58      0.68        91\n",
      "           1       0.83      0.27      0.41        70\n",
      "           2       0.72      0.88      0.79       103\n",
      "           3       1.00      0.77      0.87        65\n",
      "           4       0.55      0.92      0.69        99\n",
      "\n",
      "    accuracy                           0.71       428\n",
      "   macro avg       0.79      0.69      0.69       428\n",
      "weighted avg       0.76      0.71      0.69       428\n",
      "\n"
     ]
    },
    {
     "data": {
      "text/plain": [
       "Text(0.5, 1.0, 'Confusion matrix')"
      ]
     },
     "execution_count": 15,
     "metadata": {},
     "output_type": "execute_result"
    },
    {
     "data": {
      "image/png": "[encoded data removed]",
      "text/plain": [
       "<Figure size 432x288 with 2 Axes>"
      ]
     },
     "metadata": {
      "needs_background": "light"
     },
     "output_type": "display_data"
    }
   ],
   "source": [
    "print(\"Performance Measure of Random Forest model:\\n\\n\",metrics.classification_report(y_test, y_pred))\n",
    "confusion_rf=metrics.confusion_matrix(y_true=y_test,y_pred=y_pred)\n",
    "\n",
    "s=sns.heatmap(confusion_rf,annot=True)\n",
    "s.set_title(\"Confusion matrix\")"
   ]
  },
  {
   "cell_type": "markdown",
   "metadata": {},
   "source": [
    "The random forest classifier performs well giving overall accuracy 71%. It stuggles to classify the poses in class1 (goddess pose) giving 39 misclassifications in class4 (warrior pose)."
   ]
  },
  {
   "cell_type": "markdown",
   "metadata": {},
   "source": [
    "##### 4. Support Vector Machine"
   ]
  },
  {
   "cell_type": "code",
   "execution_count": 16,
   "metadata": {},
   "outputs": [
    {
     "name": "stdout",
     "output_type": "stream",
     "text": [
      "SVC(C=1, gamma=8e-05, random_state=0)\n",
      "Testing accuracy of SVM model is  0.6799065420560748\n"
     ]
    }
   ],
   "source": [
    "svm_clf = svm.SVC(kernel = 'rbf', gamma = 0.00008, C = 1,\n",
    "              decision_function_shape= 'ovr', \n",
    "              random_state = 0)\n",
    "\n",
    "print(svm_clf.fit(X_train, y_train))\n",
    "y_pred=svm_clf.predict(X_test)\n",
    "acc_svm=metrics.accuracy_score(y_test,y_pred)\n",
    "print(\"Testing accuracy of SVM model is \",acc_svm)\n"
   ]
  },
  {
   "cell_type": "code",
   "execution_count": 17,
   "metadata": {},
   "outputs": [
    {
     "name": "stdout",
     "output_type": "stream",
     "text": [
      "Performance Measure of SVM model:\n",
      "\n",
      "               precision    recall  f1-score   support\n",
      "\n",
      "           0       0.75      0.71      0.73        91\n",
      "           1       0.74      0.24      0.37        70\n",
      "           2       0.75      0.79      0.77       103\n",
      "           3       0.88      0.69      0.78        65\n",
      "           4       0.52      0.84      0.64        99\n",
      "\n",
      "    accuracy                           0.68       428\n",
      "   macro avg       0.73      0.65      0.66       428\n",
      "weighted avg       0.71      0.68      0.67       428\n",
      "\n"
     ]
    },
    {
     "data": {
      "text/plain": [
       "Text(0.5, 1.0, 'Confusion matrix')"
      ]
     },
     "execution_count": 17,
     "metadata": {},
     "output_type": "execute_result"
    },
    {
     "data": {
      "image/png": "[encoded data removed]",
      "text/plain": [
       "<Figure size 432x288 with 2 Axes>"
      ]
     },
     "metadata": {
      "needs_background": "light"
     },
     "output_type": "display_data"
    }
   ],
   "source": [
    "print(\"Performance Measure of SVM model:\\n\\n\",metrics.classification_report(y_test, y_pred))\n",
    "confusion_svm=metrics.confusion_matrix(y_true=y_test,y_pred=y_pred)\n",
    "\n",
    "s=sns.heatmap(confusion_svm,annot=True)\n",
    "s.set_title(\"Confusion matrix\")"
   ]
  },
  {
   "cell_type": "markdown",
   "metadata": {},
   "source": [
    "The SVM model with non-linear kernel RBF performs well giving accuracy 68%. The misclassification problem in class1 and class4 still exists. "
   ]
  },
  {
   "cell_type": "markdown",
   "metadata": {},
   "source": [
    "### ---------------------------------------------------------------------------------------------------------------------------------"
   ]
  },
  {
   "cell_type": "markdown",
   "metadata": {},
   "source": [
    "##### Comparison between all ML classifiers"
   ]
  },
  {
   "cell_type": "code",
   "execution_count": 18,
   "metadata": {},
   "outputs": [
    {
     "data": {
      "image/png": "[encoded data removed]",
      "text/plain": [
       "<Figure size 432x288 with 1 Axes>"
      ]
     },
     "metadata": {
      "needs_background": "light"
     },
     "output_type": "display_data"
    }
   ],
   "source": [
    "acc=[acc_knn,acc_nb,acc_rf,acc_svm]\n",
    "models=['K-NN','NB','RF','SVM']\n",
    "plt.bar(models,acc,width=0.6,color='steelblue')\n",
    "plt.xlabel(\"Classifier\")\n",
    "plt.ylabel(\"Accuracy\")\n",
    "plt.title(\"Comparison of accuracies between ML classifiers\")\n",
    "plt.show()"
   ]
  },
  {
   "cell_type": "markdown",
   "metadata": {},
   "source": [
    "Random Forest performs best with the accuracy 71%."
   ]
  },
  {
   "cell_type": "code",
   "execution_count": null,
   "metadata": {},
   "outputs": [],
   "source": []
  }
 ],
 "metadata": {
  "kernelspec": {
   "display_name": "Python 3",
   "language": "python",
   "name": "python3"
  },
  "language_info": {
   "codemirror_mode": {
    "name": "ipython",
    "version": 3
   },
   "file_extension": ".py",
   "mimetype": "text/x-python",
   "name": "python",
   "nbconvert_exporter": "python",
   "pygments_lexer": "ipython3",
   "version": "3.8.8"
  }
 },
 "nbformat": 4,
 "nbformat_minor": 4
}
